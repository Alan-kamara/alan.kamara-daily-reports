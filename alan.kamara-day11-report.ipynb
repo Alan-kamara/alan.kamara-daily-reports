{
 "cells": [
  {
   "cell_type": "markdown",
   "id": "946dcae8",
   "metadata": {},
   "source": [
    "# Practical_6: Numpy"
   ]
  },
  {
   "cell_type": "markdown",
   "id": "signal-links",
   "metadata": {},
   "source": [
    "---\n",
    "\n",
    "### Exercise 1:\n",
    "Create a NumPy array of integers from 1 to 10.\n",
    "\n",
    "```python\n",
    "\n",
    "```\n",
    "\n",
    "---"
   ]
  },
  {
   "cell_type": "code",
   "execution_count": 139,
   "id": "auburn-elite",
   "metadata": {},
   "outputs": [
    {
     "data": {
      "text/plain": [
       "array([ 1,  2,  3,  4,  5,  6,  7,  8,  9, 10])"
      ]
     },
     "execution_count": 139,
     "metadata": {},
     "output_type": "execute_result"
    }
   ],
   "source": [
    "import numpy as np\n",
    "v = np.arange(1,11) # arange function generates values from 1 to 10\n",
    "v"
   ]
  },
  {
   "cell_type": "markdown",
   "id": "external-programming",
   "metadata": {},
   "source": [
    "### Exercise 2:\n",
    "Create a 3x3 NumPy array filled with zeros.\n",
    "\n",
    "```python\n",
    "\n",
    "```\n",
    "\n",
    "---"
   ]
  },
  {
   "cell_type": "code",
   "execution_count": 140,
   "id": "velvet-report",
   "metadata": {},
   "outputs": [
    {
     "data": {
      "text/plain": [
       "array([[0., 0., 0.],\n",
       "       [0., 0., 0.],\n",
       "       [0., 0., 0.]])"
      ]
     },
     "execution_count": 140,
     "metadata": {},
     "output_type": "execute_result"
    }
   ],
   "source": [
    "z=np.zeros((3,3)) # the zeros function generates 3x3 0 matrix\n",
    "z"
   ]
  },
  {
   "cell_type": "markdown",
   "id": "close-there",
   "metadata": {},
   "source": [
    "### Exercise 3:\n",
    "Create a NumPy array of 10 evenly spaced numbers between 0 and 5.\n",
    "\n",
    "```python\n",
    "\n",
    "```\n",
    "\n",
    "---"
   ]
  },
  {
   "cell_type": "code",
   "execution_count": 11,
   "id": "amazing-compression",
   "metadata": {},
   "outputs": [
    {
     "data": {
      "text/plain": [
       "array([0.        , 0.55555556, 1.11111111, 1.66666667, 2.22222222,\n",
       "       2.77777778, 3.33333333, 3.88888889, 4.44444444, 5.        ])"
      ]
     },
     "execution_count": 11,
     "metadata": {},
     "output_type": "execute_result"
    }
   ],
   "source": [
    "E=np.linspace(0,5,10) # the linspace function generates 10 numbers from 1 to 5 inclusive evenly spaced\n",
    "E"
   ]
  },
  {
   "cell_type": "markdown",
   "id": "environmental-wheel",
   "metadata": {},
   "source": [
    "### Exercise 4:\n",
    "Create a 5x5 identity matrix using NumPy.\n",
    "\n",
    "```python\n",
    "```\n",
    "\n",
    "---"
   ]
  },
  {
   "cell_type": "code",
   "execution_count": 13,
   "id": "peaceful-mills",
   "metadata": {},
   "outputs": [
    {
     "data": {
      "text/plain": [
       "array([[1., 0., 0., 0., 0.],\n",
       "       [0., 1., 0., 0., 0.],\n",
       "       [0., 0., 1., 0., 0.],\n",
       "       [0., 0., 0., 1., 0.],\n",
       "       [0., 0., 0., 0., 1.]])"
      ]
     },
     "execution_count": 13,
     "metadata": {},
     "output_type": "execute_result"
    }
   ],
   "source": [
    "I = np.eye(5) # the eye function generates the identity matrix\n",
    "I"
   ]
  },
  {
   "cell_type": "markdown",
   "id": "finnish-creek",
   "metadata": {},
   "source": [
    "### Exercise 5:\n",
    "Create a 4x4 matrix with random values between 0 and 1.\n",
    "\n",
    "```python\n",
    "\n",
    "```\n",
    "\n",
    "---"
   ]
  },
  {
   "cell_type": "code",
   "execution_count": 141,
   "id": "precious-folks",
   "metadata": {},
   "outputs": [
    {
     "data": {
      "text/plain": [
       "array([[0.21539438, 0.89619905, 0.61520964, 0.27077379],\n",
       "       [0.60622767, 0.25218489, 0.36004503, 0.65780996],\n",
       "       [0.67339576, 0.03237536, 0.68145225, 0.55951188],\n",
       "       [0.18514895, 0.34946007, 0.57420104, 0.78546893]])"
      ]
     },
     "execution_count": 141,
     "metadata": {},
     "output_type": "execute_result"
    }
   ],
   "source": [
    "r = np.random.random((4,4)) # random.random generates values between 0 and 1\n",
    "r"
   ]
  },
  {
   "cell_type": "markdown",
   "id": "approximate-transcription",
   "metadata": {},
   "source": [
    "### Exercise 6:\n",
    "Find the shape of a NumPy array.\n",
    "\n",
    "```python\n",
    "\n",
    "```\n",
    "\n",
    "---"
   ]
  },
  {
   "cell_type": "code",
   "execution_count": 17,
   "id": "arabic-terry",
   "metadata": {},
   "outputs": [
    {
     "name": "stdout",
     "output_type": "stream",
     "text": [
      "(3, 3)\n"
     ]
    }
   ],
   "source": [
    "s = np.array([[1,2,3],[4,5,6],[7,9,4]]) \n",
    "\n",
    "print(s.shape)"
   ]
  },
  {
   "cell_type": "markdown",
   "id": "applied-fellowship",
   "metadata": {},
   "source": [
    "### Exercise 7:\n",
    "Reshape a 1D NumPy array of 16 elements into a 4x4 matrix.\n",
    "\n",
    "```python\n",
    "```\n",
    "\n",
    "---"
   ]
  },
  {
   "cell_type": "code",
   "execution_count": 21,
   "id": "industrial-forty",
   "metadata": {},
   "outputs": [
    {
     "data": {
      "text/plain": [
       "array([[ 0,  1,  2,  3],\n",
       "       [ 4,  5,  6,  7],\n",
       "       [ 8,  9, 10, 11],\n",
       "       [12, 13, 14, 15]])"
      ]
     },
     "execution_count": 21,
     "metadata": {},
     "output_type": "execute_result"
    }
   ],
   "source": [
    "v = np.arange(16)\n",
    "v\n",
    "v_s = v.reshape((4,4)) # the reshape function changes the 1D array to 4x4 matrix\n",
    "v_s"
   ]
  },
  {
   "cell_type": "markdown",
   "id": "dirty-morris",
   "metadata": {},
   "source": [
    "### Exercise 8:\n",
    "Find the data type of the elements in a NumPy array.\n",
    "\n",
    "```python\n",
    "\n",
    "```\n",
    "\n",
    "---\n"
   ]
  },
  {
   "cell_type": "code",
   "execution_count": 23,
   "id": "central-benchmark",
   "metadata": {},
   "outputs": [
    {
     "data": {
      "text/plain": [
       "dtype('int64')"
      ]
     },
     "execution_count": 23,
     "metadata": {},
     "output_type": "execute_result"
    }
   ],
   "source": [
    "v_s.dtype\n"
   ]
  },
  {
   "cell_type": "markdown",
   "id": "medium-luxembourg",
   "metadata": {},
   "source": [
    "### Exercise 9:\n",
    "Create a NumPy array of integers from 1 to 100 and find all even numbers in the array.\n",
    "\n",
    "```python\n",
    "\n",
    "```\n",
    "\n",
    "---"
   ]
  },
  {
   "cell_type": "code",
   "execution_count": 26,
   "id": "controlling-input",
   "metadata": {},
   "outputs": [
    {
     "data": {
      "text/plain": [
       "array([  2,   4,   6,   8,  10,  12,  14,  16,  18,  20,  22,  24,  26,\n",
       "        28,  30,  32,  34,  36,  38,  40,  42,  44,  46,  48,  50,  52,\n",
       "        54,  56,  58,  60,  62,  64,  66,  68,  70,  72,  74,  76,  78,\n",
       "        80,  82,  84,  86,  88,  90,  92,  94,  96,  98, 100])"
      ]
     },
     "execution_count": 26,
     "metadata": {},
     "output_type": "execute_result"
    }
   ],
   "source": [
    "v = np.arange(1,101)\n",
    "even=v[(v%2==0)] #filters out all the even elements in the array\n",
    "even"
   ]
  },
  {
   "cell_type": "markdown",
   "id": "fatty-parish",
   "metadata": {},
   "source": [
    "### Exercise 10:\n",
    "Generate a 6x6 matrix of random integers between 10 and 50.\n",
    "\n",
    "```python\n",
    "\n",
    "```\n",
    "\n",
    "---"
   ]
  },
  {
   "cell_type": "code",
   "execution_count": 142,
   "id": "floating-assistant",
   "metadata": {},
   "outputs": [
    {
     "data": {
      "text/plain": [
       "array([[45, 14, 21, 38, 45, 24],\n",
       "       [38, 21, 33, 42, 28, 12],\n",
       "       [27, 37, 34, 13, 44, 35],\n",
       "       [16, 33, 39, 10, 21, 39],\n",
       "       [24, 18, 21, 18, 43, 23],\n",
       "       [32, 35, 10, 19, 34, 23]])"
      ]
     },
     "execution_count": 142,
     "metadata": {},
     "output_type": "execute_result"
    }
   ],
   "source": [
    "M = np.random.randint(10,50,size=(6,6)) #use random.randint to generate random integers for the 6x6 matrix\n",
    "M"
   ]
  },
  {
   "cell_type": "markdown",
   "id": "nervous-paragraph",
   "metadata": {},
   "source": [
    "### Exercise 11:\n",
    "Slice a 2D NumPy array to extract a submatrix.\n",
    "\n",
    "```python\n",
    "\n",
    "```\n",
    "\n",
    "---"
   ]
  },
  {
   "cell_type": "code",
   "execution_count": 147,
   "id": "resistant-midnight",
   "metadata": {},
   "outputs": [
    {
     "name": "stdout",
     "output_type": "stream",
     "text": [
      "[ 6 17  7]\n"
     ]
    }
   ],
   "source": [
    "v=np.random.randint(25,size=(4,3))\n",
    "w=v[1,] #slice a 3X1 \n",
    "print(w)"
   ]
  },
  {
   "cell_type": "markdown",
   "id": "filled-price",
   "metadata": {},
   "source": [
    "### Exercise 12:\n",
    "Calculate the sum of all elements in a NumPy array.\n",
    "\n",
    "```python\n",
    "\n",
    "```\n",
    "\n",
    "---\n"
   ]
  },
  {
   "cell_type": "code",
   "execution_count": 150,
   "id": "periodic-vienna",
   "metadata": {},
   "outputs": [
    {
     "data": {
      "text/plain": [
       "157"
      ]
     },
     "execution_count": 150,
     "metadata": {},
     "output_type": "execute_result"
    }
   ],
   "source": [
    "v=np.random.randint(25,size=(4,3))\n",
    "np.sum(v)#"
   ]
  },
  {
   "cell_type": "markdown",
   "id": "numeric-penetration",
   "metadata": {},
   "source": [
    "### Exercise 13:\n",
    "Calculate the mean, median, and standard deviation of a NumPy array.\n",
    "\n",
    "```python\n",
    "\n",
    "```\n",
    "\n",
    "---"
   ]
  },
  {
   "cell_type": "code",
   "execution_count": 151,
   "id": "stupid-timber",
   "metadata": {},
   "outputs": [
    {
     "name": "stdout",
     "output_type": "stream",
     "text": [
      "13.083333333333334\n",
      "14.5\n",
      "4.192420409368422\n"
     ]
    }
   ],
   "source": [
    "print(np.mean(v))\n",
    "print(np.median(v))\n",
    "print(np.std(v))\n",
    "\n",
    "#gives the global,mean median and std\n"
   ]
  },
  {
   "cell_type": "markdown",
   "id": "lesser-anderson",
   "metadata": {},
   "source": [
    "### Exercise 14:\n",
    "Find the maximum and minimum values in a NumPy array.\n",
    "\n",
    "```python\n",
    "\n",
    "```\n",
    "\n",
    "---"
   ]
  },
  {
   "cell_type": "code",
   "execution_count": 152,
   "id": "mighty-white",
   "metadata": {
    "scrolled": true
   },
   "outputs": [
    {
     "name": "stdout",
     "output_type": "stream",
     "text": [
      "19\n",
      "4\n"
     ]
    }
   ],
   "source": [
    "print(np.max(v))\n",
    "print(np.min(v))\n"
   ]
  },
  {
   "cell_type": "code",
   "execution_count": 154,
   "id": "medieval-paintball",
   "metadata": {},
   "outputs": [
    {
     "name": "stdout",
     "output_type": "stream",
     "text": [
      "19\n",
      "4\n"
     ]
    }
   ],
   "source": [
    "print(np.max(v))\n",
    "print(np.min(v))"
   ]
  },
  {
   "cell_type": "markdown",
   "id": "engaging-consumption",
   "metadata": {},
   "source": [
    "### Exercise 15:\n",
    "Create a NumPy array of 20 random integers and find the index of the maximum value.\n",
    "\n",
    "```python\n",
    "```\n",
    "\n",
    "---"
   ]
  },
  {
   "cell_type": "code",
   "execution_count": 156,
   "id": "cosmetic-knowing",
   "metadata": {
    "scrolled": true
   },
   "outputs": [
    {
     "name": "stdout",
     "output_type": "stream",
     "text": [
      "[[ 7 10 12  4 19  1  6  3  8 15  8  2  4  5 16  0 10  9 16 18]]\n",
      "\n",
      "4\n"
     ]
    }
   ],
   "source": [
    "x = np.random.randint(21,size=(1,20))\n",
    "print(x)\n",
    "print(\"\")\n",
    "print(np.argmax(x)) #argmax function gives index of max value\n"
   ]
  },
  {
   "cell_type": "markdown",
   "id": "shared-tulsa",
   "metadata": {},
   "source": [
    "### Exercise 16:\n",
    "Create a NumPy array and reverse its elements.\n",
    "\n",
    "```python\n",
    "\n",
    "```\n",
    "\n",
    "---"
   ]
  },
  {
   "cell_type": "code",
   "execution_count": 157,
   "id": "sustainable-injection",
   "metadata": {},
   "outputs": [
    {
     "name": "stdout",
     "output_type": "stream",
     "text": [
      "[19 17 15 13 11  9  7  5  3  1]\n"
     ]
    }
   ],
   "source": [
    "y = np.arange(1,20,2)\n",
    "print(np.flip(y))"
   ]
  },
  {
   "cell_type": "markdown",
   "id": "private-fetish",
   "metadata": {},
   "source": [
    "### Exercise 17:\n",
    "Create a 3x3 matrix and multiply it element-wise by another 3x3 matrix.\n",
    "\n",
    "```python\n",
    "\n",
    "```\n",
    "\n",
    "---"
   ]
  },
  {
   "cell_type": "code",
   "execution_count": 57,
   "id": "different-edward",
   "metadata": {},
   "outputs": [
    {
     "name": "stdout",
     "output_type": "stream",
     "text": [
      "[[5 1 5]\n",
      " [3 2 6]\n",
      " [1 6 2]]\n",
      "[[1 3 6]\n",
      " [3 6 4]\n",
      " [9 7 3]]\n",
      "\n",
      "[[ 5  3 30]\n",
      " [ 9 12 24]\n",
      " [ 9 42  6]]\n"
     ]
    }
   ],
   "source": [
    "x = np.random.randint(10,size=(3,3))\n",
    "print(x)\n",
    "y=np.random.randint(10,size=(3,3))\n",
    "print(y)\n",
    "print(\"\")\n",
    "z=x*y\n",
    "print(z)"
   ]
  },
  {
   "cell_type": "markdown",
   "id": "standing-smith",
   "metadata": {},
   "source": [
    "### Exercise 18:\n",
    "Create a diagonal matrix from a given 1D array.\n",
    "\n",
    "```python\n",
    "```\n",
    "\n",
    "---"
   ]
  },
  {
   "cell_type": "code",
   "execution_count": 158,
   "id": "confident-support",
   "metadata": {},
   "outputs": [
    {
     "name": "stdout",
     "output_type": "stream",
     "text": [
      "[[1 0 0 0 0]\n",
      " [0 2 0 0 0]\n",
      " [0 0 3 0 0]\n",
      " [0 0 0 4 0]\n",
      " [0 0 0 0 5]]\n"
     ]
    }
   ],
   "source": [
    "d = np.arange(1,6)\n",
    "D= np.diag(d)#the diag fxn generates the random number the array d\n",
    "print(D) "
   ]
  },
  {
   "cell_type": "markdown",
   "id": "ready-rogers",
   "metadata": {},
   "source": [
    "### Exercise 19:\n",
    "Perform matrix multiplication on two 2D NumPy arrays.\n",
    "\n",
    "```python\n",
    "```\n",
    "\n",
    "---"
   ]
  },
  {
   "cell_type": "code",
   "execution_count": 160,
   "id": "billion-smooth",
   "metadata": {},
   "outputs": [
    {
     "name": "stdout",
     "output_type": "stream",
     "text": [
      "[[71 35]\n",
      " [93 71]]\n"
     ]
    }
   ],
   "source": [
    "x = np.random.randint(10,size=(2,3))\n",
    "y = np.random.randint(10,size=(3,2))\n",
    "\n",
    "print(np.dot(x,y))# use dot function for matrix multiply"
   ]
  },
  {
   "cell_type": "markdown",
   "id": "painful-growing",
   "metadata": {},
   "source": [
    "### Exercise 20:\n",
    "Flatten a 2D NumPy array into a 1D array.\n",
    "\n",
    "```python\n",
    "\n",
    "```\n",
    "\n",
    "---"
   ]
  },
  {
   "cell_type": "code",
   "execution_count": 161,
   "id": "fossil-singapore",
   "metadata": {},
   "outputs": [
    {
     "data": {
      "text/plain": [
       "array([0, 9, 1, 8, 4, 1])"
      ]
     },
     "execution_count": 161,
     "metadata": {},
     "output_type": "execute_result"
    }
   ],
   "source": [
    "x = np.random.randint(10,size=(3,2))\n",
    "\n",
    "x.flatten()# faltten function to turn the 2D array x to 1D"
   ]
  },
  {
   "cell_type": "markdown",
   "id": "experimental-salmon",
   "metadata": {},
   "source": [
    "### Exercise 21:\n",
    "Stack two NumPy arrays vertically.\n",
    "\n",
    "```python\n",
    "\n",
    "\n",
    "```\n",
    "\n",
    "---"
   ]
  },
  {
   "cell_type": "code",
   "execution_count": 163,
   "id": "overall-forum",
   "metadata": {},
   "outputs": [
    {
     "data": {
      "text/plain": [
       "array([[3, 4, 1],\n",
       "       [9, 8, 0],\n",
       "       [4, 3, 7],\n",
       "       [7, 2, 0]])"
      ]
     },
     "execution_count": 163,
     "metadata": {},
     "output_type": "execute_result"
    }
   ],
   "source": [
    "x = np.random.randint(10,size=(2,3))\n",
    "y = np.random.randint(10,size=(2,3))\n",
    "\n",
    "np.vstack((x,y)) #stacks matrix x  vertically on matrix y"
   ]
  },
  {
   "cell_type": "markdown",
   "id": "nervous-entrepreneur",
   "metadata": {},
   "source": [
    "### Exercise 22:\n",
    "Stack two NumPy arrays horizontally.\n",
    "\n",
    "```python\n",
    "\n",
    "```\n",
    "\n",
    "---"
   ]
  },
  {
   "cell_type": "code",
   "execution_count": 162,
   "id": "fresh-ebony",
   "metadata": {},
   "outputs": [
    {
     "data": {
      "text/plain": [
       "array([[0, 9, 6, 1],\n",
       "       [1, 8, 5, 6],\n",
       "       [4, 1, 3, 5]])"
      ]
     },
     "execution_count": 162,
     "metadata": {},
     "output_type": "execute_result"
    }
   ],
   "source": [
    "np.hstack((x,y)) #stacks matrix x  horizontally to matrix y"
   ]
  },
  {
   "cell_type": "markdown",
   "id": "recognized-degree",
   "metadata": {},
   "source": [
    "### Exercise 23:\n",
    "Split a NumPy array into multiple sub-arrays.\n",
    "\n",
    "```python\n",
    "\n",
    "```\n",
    "\n",
    "---"
   ]
  },
  {
   "cell_type": "code",
   "execution_count": 164,
   "id": "furnished-theory",
   "metadata": {},
   "outputs": [
    {
     "name": "stdout",
     "output_type": "stream",
     "text": [
      "[array([[0, 4, 2, 0, 4, 8]]), array([[8, 3, 4, 3, 4, 9]]), array([[9, 7, 6, 1, 5, 8]]), array([[9, 9, 2, 2, 8, 0]]), array([[4, 7, 6, 8, 2, 4]]), array([[4, 7, 8, 2, 2, 4]])]\n",
      "\n",
      "[array([[0, 4],\n",
      "       [8, 3],\n",
      "       [9, 7],\n",
      "       [9, 9],\n",
      "       [4, 7],\n",
      "       [4, 7]]), array([[2, 0],\n",
      "       [4, 3],\n",
      "       [6, 1],\n",
      "       [2, 2],\n",
      "       [6, 8],\n",
      "       [8, 2]]), array([[4, 8],\n",
      "       [4, 9],\n",
      "       [5, 8],\n",
      "       [8, 0],\n",
      "       [2, 4],\n",
      "       [2, 4]])]\n",
      "\n",
      "[array([[0, 4, 2, 0, 4, 8],\n",
      "       [8, 3, 4, 3, 4, 9]]), array([[9, 7, 6, 1, 5, 8],\n",
      "       [9, 9, 2, 2, 8, 0]]), array([[4, 7, 6, 8, 2, 4],\n",
      "       [4, 7, 8, 2, 2, 4]])]\n"
     ]
    }
   ],
   "source": [
    "a = np.random.randint(10,size=(6,6))\n",
    "\n",
    "b= np.split(a,6) #splitting into 6 arrays\n",
    "print(b)\n",
    "print(\"\")\n",
    "print(np.hsplit(a,3)) #splitting horizontally into 3 arrays\n",
    "print(\"\")\n",
    "print(np.vsplit(a,3)) #splitting horizontally into 3 arrays"
   ]
  },
  {
   "cell_type": "markdown",
   "id": "banner-diversity",
   "metadata": {},
   "source": [
    "### Exercise 24:\n",
    "Generate a random NumPy array and round each element to two decimal places.\n",
    "\n",
    "```python\n",
    "\n",
    "```\n",
    "\n",
    "---"
   ]
  },
  {
   "cell_type": "code",
   "execution_count": 91,
   "id": "supported-steal",
   "metadata": {},
   "outputs": [
    {
     "data": {
      "text/plain": [
       "array([0.27, 0.34, 0.42, 0.21, 0.8 , 0.22, 0.73, 0.47, 0.36, 0.71])"
      ]
     },
     "execution_count": 91,
     "metadata": {},
     "output_type": "execute_result"
    }
   ],
   "source": [
    "a = np.random.rand(10)\n",
    "np.round(a,2)\n"
   ]
  },
  {
   "cell_type": "markdown",
   "id": "hollywood-houston",
   "metadata": {},
   "source": [
    "### Exercise 25:\n",
    "Find the unique elements of a NumPy array.\n",
    "\n",
    "```python\n",
    "```\n",
    "\n",
    "---"
   ]
  },
  {
   "cell_type": "code",
   "execution_count": 98,
   "id": "accepted-triple",
   "metadata": {},
   "outputs": [
    {
     "name": "stdout",
     "output_type": "stream",
     "text": [
      "[1 2 3 4 5 7]\n"
     ]
    }
   ],
   "source": [
    "s = np.array([[1,2,3],[2,5,1],[7,3,4]]) \n",
    "\n",
    "print(np.unique(s))"
   ]
  },
  {
   "cell_type": "markdown",
   "id": "korean-logging",
   "metadata": {},
   "source": [
    "### Exercise 26:\n",
    "Replace all elements in a NumPy array that are less than a specific value with that value.\n",
    "\n",
    "```python\n",
    "```\n",
    "\n",
    "---"
   ]
  },
  {
   "cell_type": "code",
   "execution_count": 101,
   "id": "enclosed-expression",
   "metadata": {},
   "outputs": [
    {
     "name": "stdout",
     "output_type": "stream",
     "text": [
      "[[5 5 5]\n",
      " [5 5 6]\n",
      " [7 9 5]]\n"
     ]
    }
   ],
   "source": [
    "s = np.array([[1,2,3],[4,5,6],[7,9,4]]) \n",
    "s[s<=5]=5 # set all the values <5 in the array to 5\n",
    "new_s=s\n",
    "print(new_s)"
   ]
  },
  {
   "cell_type": "markdown",
   "id": "electrical-metadata",
   "metadata": {},
   "source": [
    "### Exercise 27:\n",
    "Find the cumulative sum of the elements in a NumPy array.\n",
    "\n",
    "```python\n",
    "\n",
    "```\n",
    "\n",
    "---"
   ]
  },
  {
   "cell_type": "code",
   "execution_count": 103,
   "id": "dramatic-israel",
   "metadata": {},
   "outputs": [
    {
     "name": "stdout",
     "output_type": "stream",
     "text": [
      "[[ 2  1  9]\n",
      " [ 9 11  4]\n",
      " [11  4  4]\n",
      " [ 5 10  8]]\n",
      "\n"
     ]
    },
    {
     "data": {
      "text/plain": [
       "array([ 2,  3, 12, 21, 32, 36, 47, 51, 55, 60, 70, 78])"
      ]
     },
     "execution_count": 103,
     "metadata": {},
     "output_type": "execute_result"
    }
   ],
   "source": [
    "a = np.random.randint(12,size=(4,3))\n",
    "print(a)\n",
    "print(\"\")\n",
    "np.cumsum(a)"
   ]
  },
  {
   "cell_type": "markdown",
   "id": "green-polyester",
   "metadata": {},
   "source": [
    "### Exercise 28:\n",
    "Create a NumPy array and find the number of non-zero elements in it.\n",
    "\n",
    "```python\n",
    "```\n",
    "\n",
    "---"
   ]
  },
  {
   "cell_type": "code",
   "execution_count": 108,
   "id": "confirmed-ribbon",
   "metadata": {},
   "outputs": [
    {
     "name": "stdout",
     "output_type": "stream",
     "text": [
      "[[ 2  0 10]\n",
      " [ 5  0  3]\n",
      " [ 0 11  1]\n",
      " [ 2  7  0]]\n",
      "8\n"
     ]
    }
   ],
   "source": [
    "a = np.random.randint(12,size=(4,3))\n",
    "print(a)\n",
    "print(np.count_nonzero(a))"
   ]
  },
  {
   "cell_type": "markdown",
   "id": "external-imaging",
   "metadata": {},
   "source": [
    "### Exercise 29:\n",
    "Create a NumPy array of random integers and sort it in ascending order.\n",
    "\n",
    "```python\n",
    "```\n",
    "\n",
    "---"
   ]
  },
  {
   "cell_type": "code",
   "execution_count": 166,
   "id": "clinical-fever",
   "metadata": {},
   "outputs": [
    {
     "name": "stdout",
     "output_type": "stream",
     "text": [
      "[[ 3  3  2]\n",
      " [ 7  3 10]\n",
      " [ 4  9  9]\n",
      " [10 11  4]]\n",
      "\n",
      "[[ 2  3  3]\n",
      " [ 3  7 10]\n",
      " [ 4  9  9]\n",
      " [ 4 10 11]]\n"
     ]
    }
   ],
   "source": [
    "a = np.random.randint(12,size=(4,3))\n",
    "print(a)\n",
    "print(\"\")\n",
    "print(np.sort(a))"
   ]
  },
  {
   "cell_type": "markdown",
   "id": "derived-boating",
   "metadata": {},
   "source": [
    "### Exercise 30:\n",
    "Find the row-wise and column-wise sum of a 3x3 matrix.\n",
    "\n",
    "```python\n",
    "```\n",
    "\n",
    "---"
   ]
  },
  {
   "cell_type": "code",
   "execution_count": 113,
   "id": "bibliographic-venue",
   "metadata": {},
   "outputs": [
    {
     "name": "stdout",
     "output_type": "stream",
     "text": [
      "[20 12  5 21]\n",
      "[18 10 30]\n"
     ]
    }
   ],
   "source": [
    "a = np.random.randint(12,size=(4,3))\n",
    "print(np.sum(a,axis=1))#row wise\n",
    "print(np.sum(a,axis=0))#column wise"
   ]
  },
  {
   "cell_type": "markdown",
   "id": "prescribed-peeing",
   "metadata": {},
   "source": [
    "### Exercise 31:\n",
    "Generate a 2D NumPy array with random values and normalize it (scale the values between 0 and 1).\n",
    "\n",
    "```python\n",
    "\n",
    "```\n",
    "\n",
    "---"
   ]
  },
  {
   "cell_type": "code",
   "execution_count": 119,
   "id": "future-soccer",
   "metadata": {},
   "outputs": [
    {
     "name": "stdout",
     "output_type": "stream",
     "text": [
      "[[ 9  8 10]\n",
      " [ 2  7  8]\n",
      " [ 0  9  7]]\n",
      "\n",
      "[[0.9 0.8 1. ]\n",
      " [0.2 0.7 0.8]\n",
      " [0.  0.9 0.7]]\n"
     ]
    }
   ],
   "source": [
    "a = np.random.randint(12,size=(3,3))\n",
    "print(a)\n",
    "norm_a=(a - np.min(a))/(np.max(a)-np.min(a))#equation of normalization\n",
    "print(\"\")\n",
    "print(norm_a)"
   ]
  },
  {
   "cell_type": "markdown",
   "id": "bearing-working",
   "metadata": {},
   "source": [
    "### Exercise 32:\n",
    "Create two NumPy arrays and find the dot product.\n",
    "\n",
    "```python\n",
    "```\n",
    "\n",
    "---"
   ]
  },
  {
   "cell_type": "code",
   "execution_count": 120,
   "id": "weekly-western",
   "metadata": {},
   "outputs": [
    {
     "name": "stdout",
     "output_type": "stream",
     "text": [
      "[[132  71 130]\n",
      " [ 60  48  84]\n",
      " [ 47  13  25]]\n"
     ]
    }
   ],
   "source": [
    "a = np.random.randint(12,size=(3,3))\n",
    "b = np.random.randint(12,size=(3,3))\n",
    "\n",
    "print(np.dot(a,b))"
   ]
  },
  {
   "cell_type": "markdown",
   "id": "arranged-first",
   "metadata": {},
   "source": [
    "### Exercise 33:\n",
    "Find the trace of a square NumPy matrix.\n",
    "\n",
    "```python\n",
    "\n",
    "```\n",
    "\n",
    "---"
   ]
  },
  {
   "cell_type": "code",
   "execution_count": 167,
   "id": "sitting-completion",
   "metadata": {},
   "outputs": [
    {
     "data": {
      "text/plain": [
       "17"
      ]
     },
     "execution_count": 167,
     "metadata": {},
     "output_type": "execute_result"
    }
   ],
   "source": [
    "a = np.random.randint(15,size=(4,4))\n",
    "np.trace(a)"
   ]
  },
  {
   "cell_type": "markdown",
   "id": "qualified-skating",
   "metadata": {},
   "source": [
    "### Exercise 34:\n",
    "Create a 2D array and swap two rows.\n",
    "\n",
    "```python\n",
    "```\n",
    "\n",
    "---"
   ]
  },
  {
   "cell_type": "code",
   "execution_count": 125,
   "id": "allied-pillow",
   "metadata": {},
   "outputs": [
    {
     "name": "stdout",
     "output_type": "stream",
     "text": [
      "[[14  1 11]\n",
      " [13  2 11]\n",
      " [ 6  1  1]\n",
      " [ 5 11 13]]\n",
      "\n",
      "[[13  2 11]\n",
      " [14  1 11]\n",
      " [ 6  1  1]\n",
      " [ 5 11 13]]\n"
     ]
    }
   ],
   "source": [
    "a = np.random.randint(15,size=(4,3))\n",
    "\n",
    "print(a)\n",
    "print(\"\")\n",
    "a[[0,1]]=a[[1,0]] #swap row 1 and row 2\n",
    "\n",
    "print(a)"
   ]
  },
  {
   "cell_type": "markdown",
   "id": "liberal-assignment",
   "metadata": {},
   "source": [
    "### Exercise 35:\n",
    "Create a 1D NumPy array and convert it into a column vector.\n",
    "\n",
    "```python\n",
    "\n",
    "```\n",
    "\n",
    "---"
   ]
  },
  {
   "cell_type": "code",
   "execution_count": 173,
   "id": "characteristic-sport",
   "metadata": {},
   "outputs": [
    {
     "name": "stdout",
     "output_type": "stream",
     "text": [
      "[[0]\n",
      " [1]\n",
      " [2]\n",
      " [3]\n",
      " [4]\n",
      " [5]\n",
      " [6]]\n"
     ]
    }
   ],
   "source": [
    "w = np.arange(7)\n",
    "\n",
    "c = np.reshape(w,(-1,1))\n",
    "print(c)"
   ]
  },
  {
   "cell_type": "markdown",
   "id": "international-cooler",
   "metadata": {},
   "source": [
    "### Exercise 36:\n",
    "Find the determinant of a 3x3 matrix.\n",
    "\n",
    "```python\n",
    "\n",
    "```\n",
    "\n",
    "---"
   ]
  },
  {
   "cell_type": "code",
   "execution_count": 175,
   "id": "republican-completion",
   "metadata": {},
   "outputs": [
    {
     "data": {
      "text/plain": [
       "225.0"
      ]
     },
     "execution_count": 175,
     "metadata": {},
     "output_type": "execute_result"
    }
   ],
   "source": [
    "d = np.random.randint(12,size=(3,3))\n",
    "np.linalg.det(d)"
   ]
  },
  {
   "cell_type": "markdown",
   "id": "vocational-hanging",
   "metadata": {},
   "source": [
    "### Exercise 37:\n",
    "Find the eigenvalues and eigenvectors of a 2x2 matrix.\n",
    "\n",
    "```python\n",
    "\n",
    "```\n",
    "\n",
    "---"
   ]
  },
  {
   "cell_type": "code",
   "execution_count": 131,
   "id": "outer-grocery",
   "metadata": {},
   "outputs": [
    {
     "data": {
      "text/plain": [
       "(array([11.,  1.]),\n",
       " array([[ 0.70710678, -0.3939193 ],\n",
       "        [ 0.70710678,  0.91914503]]))"
      ]
     },
     "execution_count": 131,
     "metadata": {},
     "output_type": "execute_result"
    }
   ],
   "source": [
    "d = np.random.randint(12,size=(2,2))\n",
    "np.linalg.eig(d)"
   ]
  },
  {
   "cell_type": "markdown",
   "id": "gothic-interference",
   "metadata": {},
   "source": [
    "### Exercise 38:\n",
    "Solve a system of linear equations using NumPy.\n",
    "\n",
    "```python\n",
    "\n",
    "```\n",
    "\n",
    "---"
   ]
  },
  {
   "cell_type": "code",
   "execution_count": 176,
   "id": "hybrid-february",
   "metadata": {},
   "outputs": [
    {
     "data": {
      "text/plain": [
       "array([0.66666667, 1.66666667, 1.66666667])"
      ]
     },
     "execution_count": 176,
     "metadata": {},
     "output_type": "execute_result"
    }
   ],
   "source": [
    "#solving the equation a+2b+3c=9, 2a+3b+c=8, 3a+b+2c=7 \n",
    "x = np.array([[1,2,3],[2,3,1],[3,1,2]]) # coefficient matrix\n",
    "y=[9,8,7] #constant matrix\n",
    "z = np.linalg.solve(x,y) #solution vector\n",
    "z"
   ]
  },
  {
   "cell_type": "markdown",
   "id": "ethical-workstation",
   "metadata": {},
   "source": [
    "### Exercise 39:\n",
    "Add Gaussian noise to a NumPy array.\n",
    "\n",
    "```python\n",
    "# Exercise 39\n",
    "```\n",
    "\n",
    "---"
   ]
  },
  {
   "cell_type": "code",
   "execution_count": 177,
   "id": "christian-flood",
   "metadata": {},
   "outputs": [
    {
     "data": {
      "text/plain": [
       "array([[-0.29208741,  2.38439557,  1.75511794],\n",
       "       [ 1.70791259,  4.38439557,  7.75511794],\n",
       "       [ 8.70791259, 11.38439557,  0.75511794]])"
      ]
     },
     "execution_count": 177,
     "metadata": {},
     "output_type": "execute_result"
    }
   ],
   "source": [
    "a = np.random.randint(12,size=(3,3))\n",
    "noise = np.random.normal(0,1,len(a)) #generating noise with mean 0 and standard deviation 1(standard normal distribution)\n",
    "\n",
    "a_noise=a+noise #adding noise to array\n",
    "\n",
    "a_noise"
   ]
  },
  {
   "cell_type": "markdown",
   "id": "electoral-credits",
   "metadata": {},
   "source": [
    "### Exercise 40:\n",
    "Create a 4x4 matrix and extract the diagonal elements.\n",
    "\n",
    "```python\n",
    "\n",
    "```\n",
    "\n",
    "---"
   ]
  },
  {
   "cell_type": "code",
   "execution_count": 178,
   "id": "functioning-midwest",
   "metadata": {},
   "outputs": [
    {
     "name": "stdout",
     "output_type": "stream",
     "text": [
      "[10  0  2  7]\n"
     ]
    }
   ],
   "source": [
    "d = np.random.randint(12,size=(4,4))\n",
    "print(np.diag(d))# access the diagonal elements of the 4x4 matrix"
   ]
  },
  {
   "cell_type": "markdown",
   "id": "9a78d71c",
   "metadata": {},
   "source": [
    "### Exercise 41:\n",
    "Generate a NumPy array of 100 random values and clip the values to a range between 10 and 50.\n",
    "\n",
    "```python\n",
    "# Exercise 41\n",
    "```\n",
    "\n",
    "---\n",
    "\n",
    "### Exercise 42:\n",
    "Create a 2D NumPy array and replace all negative values with zero.\n",
    "\n",
    "```python\n",
    "# Exercise 42\n",
    "```\n",
    "\n",
    "---\n",
    "\n",
    "### Exercise 43:\n",
    "Find the inner and outer products of two NumPy arrays.\n",
    "\n",
    "```python\n",
    "# Exercise 43\n",
    "```\n",
    "\n",
    "---\n",
    "\n",
    "### Exercise 44:\n",
    "Calculate the pairwise distances between points in a NumPy array.\n",
    "\n",
    "```python\n",
    "# Exercise 44\n",
    "```\n",
    "\n",
    "---\n",
    "\n",
    "### Exercise 45:\n",
    "Create a structured NumPy array with fields for `name`, `age`, and `height`.\n",
    "\n",
    "```python\n",
    "# Exercise 45\n",
    "```\n",
    "\n",
    "---\n",
    "\n",
    "### Exercise 46:\n",
    "Create a 5x5 matrix of random integers and count the occurrences of each unique value.\n",
    "\n",
    "```python\n",
    "# Exercise 46\n",
    "```\n",
    "\n",
    "---\n",
    "\n",
    "### Exercise 47:\n",
    "Generate a random 3x3 NumPy array and subtract the mean of each row from the corresponding row.\n",
    "\n",
    "```python\n",
    "# Exercise 47\n",
    "```\n",
    "\n",
    "---\n",
    "\n",
    "### Exercise 48:\n",
    "Create a NumPy array of random integers and check if any of the values are greater than 50.\n",
    "\n",
    "```python\n",
    "# Exercise 48\n",
    "```\n",
    "\n",
    "---\n",
    "\n",
    "### Exercise 49:\n",
    "Calculate the moving average of a 1D NumPy array.\n",
    "\n",
    "```python\n",
    "# Exercise 49\n",
    "```\n",
    "\n",
    "---\n",
    "\n",
    "### Exercise 50:\n",
    "Find the Pearson correlation coefficient between two NumPy arrays.\n",
    "\n",
    "```python\n",
    "# Exercise 50\n",
    "```\n",
    "\n",
    "---\n",
    "\n",
    "### Exercise 51:\n",
    "Convert a NumPy array of radians to degrees.\n",
    "\n",
    "```python\n",
    "# Exercise 51\n",
    "```\n",
    "\n",
    "---\n",
    "\n",
    "### Exercise 52:\n",
    "Create a random NumPy array and compute its variance and standard deviation.\n",
    "\n",
    "```python\n",
    "# Exercise 52\n",
    "```\n",
    "\n",
    "---\n",
    "\n",
    "### Exercise 53:\n",
    "Create a 2D NumPy array and find the indices of the maximum values along each axis.\n",
    "\n",
    "```python\n",
    "# Exercise 53\n",
    "```\n",
    "\n",
    "---\n",
    "\n",
    "### Exercise 54:\n",
    "Compute the inverse of a 2x2 NumPy matrix.\n",
    "\n",
    "```python\n",
    "# Exercise 54\n",
    "```\n",
    "\n",
    "---\n",
    "\n",
    "### Exercise 55:\n",
    "Create a NumPy array of 10 random values and standardize it (mean 0, variance 1).\n",
    "\n",
    "```python\n",
    "# Exercise 55\n",
    "```\n",
    "\n",
    "---\n",
    "\n",
    "### Exercise 56:\n",
    "Perform element-wise addition and subtraction on two NumPy arrays.\n",
    "\n",
    "```python\n",
    "# Exercise 56\n",
    "```\n",
    "\n",
    "---\n",
    "\n",
    "### Exercise 57:\n",
    "Create a NumPy array of random values and find the maximum element's index.\n",
    "\n",
    "```python\n",
    "# Exercise 57\n",
    "```\n",
    "\n",
    "---\n",
    "\n",
    "### Exercise 58:\n",
    "Create a 3x3 NumPy array and rotate it by 90 degrees.\n",
    "\n",
    "```python\n",
    "# Exercise 58\n",
    "```\n",
    "\n",
    "---\n",
    "\n",
    "### Exercise 59:\n",
    "Compute the Frobenius norm of a matrix.\n",
    "\n",
    "```python\n",
    "# Exercise 59\n",
    "```\n",
    "\n",
    "---\n",
    "\n",
    "### Exercise 60:\n",
    "Create a 3D NumPy array and slice out a subarray.\n",
    "\n",
    "```python\n",
    "# Exercise 60\n",
    "```\n",
    "\n",
    "---"
   ]
  },
  {
   "cell_type": "code",
   "execution_count": null,
   "id": "literary-reliance",
   "metadata": {},
   "outputs": [],
   "source": []
  }
 ],
 "metadata": {
  "kernelspec": {
   "display_name": "Python 3",
   "language": "python",
   "name": "python3"
  },
  "language_info": {
   "codemirror_mode": {
    "name": "ipython",
    "version": 3
   },
   "file_extension": ".py",
   "mimetype": "text/x-python",
   "name": "python",
   "nbconvert_exporter": "python",
   "pygments_lexer": "ipython3",
   "version": "3.9.2"
  }
 },
 "nbformat": 4,
 "nbformat_minor": 5
}
