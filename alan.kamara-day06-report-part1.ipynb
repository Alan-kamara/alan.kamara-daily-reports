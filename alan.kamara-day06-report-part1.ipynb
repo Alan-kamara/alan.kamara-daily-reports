{
 "cells": [
  {
   "cell_type": "code",
   "execution_count": 138,
   "id": "aggregate-identification",
   "metadata": {},
   "outputs": [
    {
     "name": "stdout",
     "output_type": "stream",
     "text": [
      "choose any +ve integer whose sum you wish to know: 3\n",
      "4\n"
     ]
    }
   ],
   "source": [
    "# 1(i)\n",
    "\n",
    "choice = n= int(input(\"choose any +ve integer whose sum you wish to know: \")) # take user input\n",
    "s=0 # initialize sum\n",
    "for i in range(n): # use for loop to loop through to n-1\n",
    "    if i%2 != 0: # check if the index is odd\n",
    "        s = s + i +3 # compute the sum\n",
    "print(s) \n",
    "    \n",
    "    "
   ]
  },
  {
   "cell_type": "code",
   "execution_count": 139,
   "id": "adequate-cassette",
   "metadata": {},
   "outputs": [
    {
     "name": "stdout",
     "output_type": "stream",
     "text": [
      "choose any +ve integer whose sum you wish to know: 4\n",
      "15\n"
     ]
    }
   ],
   "source": [
    "# 1(ii)\n",
    "choice = n= int(input(\"choose any +ve integer whose sum you wish to know: \")) # take user input\n",
    "p=3 # initialize product\n",
    "for i in range(1,n): # use for loop to loop through to n-1\n",
    "    if i%2 == 0:  # check if the index is odd\n",
    "        p = p*(i +3) # compute the product\n",
    "print(p)"
   ]
  },
  {
   "cell_type": "code",
   "execution_count": 142,
   "id": "logical-illinois",
   "metadata": {},
   "outputs": [
    {
     "name": "stdout",
     "output_type": "stream",
     "text": [
      "choose any number from 0 to 6: 6\n",
      "It's the weekend!\n"
     ]
    }
   ],
   "source": [
    "# 2\n",
    "choice = d = int(input(\"choose any number from 0 to 6: \")) # take user input\n",
    "days = [\"SUNDAY\", \"MONDAY\", \"TUESDAY\", \"THURSDAY\", \"FRIDAY\", \"SATURDAY\"] # create list of days of week\n",
    "\n",
    "if d in range (1,5): # check if its a working day\n",
    "    day = days[d]\n",
    "    print(\"It's \" + day)\n",
    "elif d==0 or d==6: # check if its the weekend\n",
    "    print(\"It's the weekend!\")"
   ]
  },
  {
   "cell_type": "code",
   "execution_count": 22,
   "id": "favorite-coach",
   "metadata": {},
   "outputs": [
    {
     "name": "stdout",
     "output_type": "stream",
     "text": [
      "choose any number from 0 to 11: 8\n",
      "SEPTEMBER has 30 days\n"
     ]
    }
   ],
   "source": [
    "# 3\n",
    "choice = d = int(input(\"choose any number from 0 to 11: \")) # take user input\n",
    "\n",
    "# create list of months\n",
    "months = m = [\"JANUARY\", \"FEBRUARY\", \"MARCH\", \"APRIL\", \"MAY\", \"JUNE\", \"JULY\", \"AUGUST\", \"SEPTEMBER\", \"OCTOBER\", \"N0VEMBER\", \"DECEMBER\"]\n",
    "# create list of month days\n",
    "month_days = md = [\"31\", \"28\", \"31\", \"30\",\"31\", \"30\", \"31\", \"31\",\"30\",\"31\",\"30\",\"31\"]\n",
    "\n",
    "if d in range (12): #check if user input is valid \n",
    "    month = months[d] # access month based on user input\n",
    "    day = md[d] # access day based on user input\n",
    "    print( month + \" has \" + day + \" days\")"
   ]
  },
  {
   "cell_type": "code",
   "execution_count": 25,
   "id": "global-spanish",
   "metadata": {},
   "outputs": [
    {
     "name": "stdout",
     "output_type": "stream",
     "text": [
      "Alan\n",
      "Alan\n",
      "Alan\n"
     ]
    }
   ],
   "source": [
    "#4 a\n",
    "for i in range (3):\n",
    "    print(\"Alan\")\n",
    "    \n",
    "    \n"
   ]
  },
  {
   "cell_type": "code",
   "execution_count": 34,
   "id": "cheap-trademark",
   "metadata": {},
   "outputs": [
    {
     "name": "stdout",
     "output_type": "stream",
     "text": [
      "Alan\n",
      "Alan\n",
      "Alan\n"
     ]
    }
   ],
   "source": [
    "#4 b\n",
    "i = 1\n",
    "while i<= 3:\n",
    "    print(\"Alan\")\n",
    "    i = i+1\n",
    "    \n",
    "    "
   ]
  },
  {
   "cell_type": "code",
   "execution_count": 143,
   "id": "prepared-rescue",
   "metadata": {
    "scrolled": true
   },
   "outputs": [
    {
     "name": "stdout",
     "output_type": "stream",
     "text": [
      "enter first number: 1\n",
      "enter second number: 1\n",
      "1\n",
      "1\n",
      "2\n",
      "3\n",
      "5\n",
      "8\n",
      "13\n",
      "21\n",
      "34\n",
      "55\n",
      "89\n",
      "144\n",
      "233\n",
      "377\n",
      "610\n"
     ]
    }
   ],
   "source": [
    "#5\n",
    "a0 = int(input(\"enter first number: \"))# stores users second input\n",
    "a1 = int(input(\"enter second number: \")) # stores users second input\n",
    "print(a0) # print first number in sequence \n",
    "for i in range(14): #use for loop to generate the other 14 numbers\n",
    "    an = a0 + a1\n",
    "    a0 = a1\n",
    "    a1 = an\n",
    "    print(a0)\n",
    "          "
   ]
  },
  {
   "cell_type": "code",
   "execution_count": 144,
   "id": "exciting-track",
   "metadata": {},
   "outputs": [
    {
     "name": "stdout",
     "output_type": "stream",
     "text": [
      "enter first number: 1\n",
      "enter second number: 2\n",
      "1\n",
      "2\n",
      "4.0\n",
      "8.0\n",
      "16.0\n",
      "32.0\n",
      "64.0\n",
      "128.0\n",
      "256.0\n",
      "512.0\n",
      "1024.0\n",
      "2048.0\n",
      "4096.0\n",
      "8192.0\n",
      "16384.0\n",
      "32768.0\n",
      "65536.0\n",
      "131072.0\n",
      "262144.0\n",
      "524288.0\n",
      "1048576.0\n",
      "2097152.0\n",
      "4194304.0\n",
      "8388608.0\n",
      "16777216.0\n",
      "33554432.0\n",
      "67108864.0\n",
      "134217728.0\n",
      "268435456.0\n",
      "536870912.0\n"
     ]
    }
   ],
   "source": [
    "# 6\n",
    "a0 = int(input(\"enter first number: \")) # stores users second input\n",
    "a1 = int(input(\"enter second number: \")) # stores users second input\n",
    "print(a0) # print first number in sequence \n",
    "for i in range(29): #use for loop to generate the other 29 numbers\n",
    "    an = 3*a0 + 0.5*a1\n",
    "    a0 = a1\n",
    "    a1 = an\n",
    "    print(a0)\n",
    "          "
   ]
  },
  {
   "cell_type": "code",
   "execution_count": 67,
   "id": "hourly-height",
   "metadata": {},
   "outputs": [
    {
     "name": "stdout",
     "output_type": "stream",
     "text": [
      "Enter any year: 67\n",
      "67 is not a leap year\n"
     ]
    }
   ],
   "source": [
    "#7 a\n",
    "y = int(input(\"Enter any year: \")) # take user input\n",
    "if (y%4==0 and y%100 !=0):\n",
    "    print(str(y) +\" is not a leap year\")\n",
    "if (y%100==0 and y%400 ==0):\n",
    "    print(str(y )+\" is a leap year\")\n",
    "if((y%4!=0 or y%100 ==0) and (y%100!=0 or y%400 !=0)):\n",
    "    print(str(y) + \" is not a leap year\")"
   ]
  },
  {
   "cell_type": "code",
   "execution_count": 145,
   "id": "animated-warehouse",
   "metadata": {
    "scrolled": true
   },
   "outputs": [
    {
     "name": "stdout",
     "output_type": "stream",
     "text": [
      "Enter any year: 404\n",
      "The year 404 is a leap year\n"
     ]
    }
   ],
   "source": [
    "#7b\n",
    "year = y = int(input(\"Enter any year: \"))  # take user input\n",
    "\n",
    "condition = c = (y%400==0)  or (y%100!=0 and y%4 ==0) # condition for leap  year which returns a boolean\n",
    "result = [\" is not a leap year\", \" is a leap year\"] \n",
    "print(\"The year \" + str(y) +result[c]) #prints result based on wether the boolean returned is True(1) or False(0)\n",
    "\n",
    "       "
   ]
  },
  {
   "cell_type": "code",
   "execution_count": 158,
   "id": "fiscal-genius",
   "metadata": {},
   "outputs": [
    {
     "name": "stdout",
     "output_type": "stream",
     "text": [
      "choose any natural number whose sum of squares you wish to know: 5\n",
      "The sum is 55\n"
     ]
    }
   ],
   "source": [
    "# 8a i\n",
    "# take user input\n",
    "choice = n= int(input(\"choose any natural number whose sum of squares you wish to know: \"))\n",
    "\n",
    "\n",
    "s = 0 #initialize sum\n",
    "for i in range(n+1): # loop through to n\n",
    "    s = s + i**2 # compute sum of squares\n",
    "print(\"The sum is \" + str(s))"
   ]
  },
  {
   "cell_type": "code",
   "execution_count": 150,
   "id": "proper-colon",
   "metadata": {},
   "outputs": [
    {
     "name": "stdout",
     "output_type": "stream",
     "text": [
      "choose any natural number whose sum of squares you wish to know: 6\n",
      "The sum is 91\n"
     ]
    }
   ],
   "source": [
    "#8a ii\n",
    "# take user input\n",
    "choice = n= int(input(\"choose any natural number whose sum of squares you wish to know: \"))\n",
    "s = 0 #initialize sum\n",
    "i= 1 # initialize count\n",
    "\n",
    "while i <= n:\n",
    "    s=s+i**2 # compute sum of squares\n",
    "    i=i+1 # increment i\n",
    "print(\"The sum is \" + str(s))\n",
    "    "
   ]
  },
  {
   "cell_type": "code",
   "execution_count": 154,
   "id": "raising-reviewer",
   "metadata": {},
   "outputs": [
    {
     "name": "stdout",
     "output_type": "stream",
     "text": [
      "choose any natural number : 66\n",
      "The smallest integer is 6\n"
     ]
    }
   ],
   "source": [
    "#8b\n",
    "# take user input\n",
    "choice = M = int(input(\"choose any natural number : \"))\n",
    "\n",
    "s = 0 #initialize sum\n",
    "for i in range(1,M+1): # loop through to M\n",
    "    s = s + i**2 # compute sum of squares\n",
    "    if s >= M: # check if sum has exceeded M\n",
    "        print(\"The smallest integer is \" + str(i)) \n",
    "        break\n"
   ]
  },
  {
   "cell_type": "code",
   "execution_count": 155,
   "id": "going-network",
   "metadata": {},
   "outputs": [
    {
     "name": "stdout",
     "output_type": "stream",
     "text": [
      "choose any natural number whose divisors you wish to know: 49\n",
      "1 is a divisor of 49\n",
      "7 is a divisor of 49\n",
      "49 is a divisor of 49\n"
     ]
    }
   ],
   "source": [
    "#9a\n",
    "choice = n = int(input(\"choose any natural number whose divisors you wish to know: \"))\n",
    "for i in range(1, n+1):\n",
    "    if n%i == 0:\n",
    "        print(str(i) +\" is a divisor of \"+ str(n))"
   ]
  },
  {
   "cell_type": "code",
   "execution_count": 157,
   "id": "negative-manual",
   "metadata": {},
   "outputs": [
    {
     "name": "stdout",
     "output_type": "stream",
     "text": [
      "choose any natural number whose prime factors you wish to know: 38\n",
      "2 is a prime factor of 38\n",
      "19 is a prime factor of 19\n"
     ]
    }
   ],
   "source": [
    "# 9b\n",
    "choice = n = int(input(\"choose any natural number whose prime factors you wish to know: \"))\n",
    "i = 2\n",
    "while n >= 2:\n",
    "    if n % i == 0:\n",
    "        print(str(i)+ \" is a prime factor of \" +str(n))\n",
    "        n = n// i\n",
    "    else:\n",
    "        i = i+1"
   ]
  },
  {
   "cell_type": "code",
   "execution_count": null,
   "id": "specialized-surfing",
   "metadata": {},
   "outputs": [],
   "source": []
  }
 ],
 "metadata": {
  "kernelspec": {
   "display_name": "Python 3",
   "language": "python",
   "name": "python3"
  },
  "language_info": {
   "codemirror_mode": {
    "name": "ipython",
    "version": 3
   },
   "file_extension": ".py",
   "mimetype": "text/x-python",
   "name": "python",
   "nbconvert_exporter": "python",
   "pygments_lexer": "ipython3",
   "version": "3.9.2"
  }
 },
 "nbformat": 4,
 "nbformat_minor": 5
}
